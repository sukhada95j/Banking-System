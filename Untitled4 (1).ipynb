{
  "nbformat": 4,
  "nbformat_minor": 0,
  "metadata": {
    "colab": {
      "provenance": []
    },
    "kernelspec": {
      "name": "python3",
      "display_name": "Python 3"
    },
    "language_info": {
      "name": "python"
    }
  },
  "cells": [
    {
      "cell_type": "code",
      "execution_count": 45,
      "metadata": {
        "colab": {
          "base_uri": "https://localhost:8080/"
        },
        "id": "lZPidKCU2aof",
        "outputId": "855eb8eb-5544-4d8c-8cd1-cb592450fb00"
      },
      "outputs": [
        {
          "output_type": "stream",
          "name": "stdout",
          "text": [
            "Your account has been deposited and new balance is: 300\n",
            "You have withdrawn the amount and new balance is: 200\n",
            "User Details are as follows:\n",
            "\n",
            "Name: Amit\n",
            "Age: 25\n",
            "Gender: Male\n",
            "You have withdrawn the amount and new balance is: 200\n"
          ]
        }
      ],
      "source": [
        "#banking system using oops\n",
        "#Parent class: User\n",
        "#holds details about an user\n",
        "#has a function to show user details\n",
        "\n",
        "#Child class: Bank\n",
        "#stores details about the account balance\n",
        "#stores details about the amount\n",
        "#allows for deposits,withdraw,view_balance\n",
        "class User:\n",
        "      def __init__(self,name,age,gender):\n",
        "        self.name=name\n",
        "        self.age=age\n",
        "        self.gender=gender\n",
        "      def show_details(self):\n",
        "        print(\"User Details are as follows:\")\n",
        "        print(\"\")\n",
        "        print(\"Name:\",self.name)\n",
        "        print(\"Age:\",self.age)\n",
        "        print(\"Gender:\",self.gender)\n",
        "class Bank(User):\n",
        "    def __init__(self,name,age,gender):\n",
        "      super().__init__(name,age,gender)\n",
        "      self.balance=0\n",
        "\n",
        "    def deposits(self,amount):\n",
        "      self.amount=amount\n",
        "      self.balance= self.balance+ self.amount\n",
        "      print(\"Your account has been deposited and new balance is:\", self.balance)\n",
        "\n",
        "    def withdraw(self,amount):\n",
        "      self.amount=amount\n",
        "      if self.amount > self.balance:\n",
        "        print(\"You have insufficient balance: \",self.balance)\n",
        "      else:\n",
        "        self.balance=self.balance-self.amount\n",
        "        print(\"You have withdrawn the amount and new balance is:\",self.balance)\n",
        "    def view_balance(self):\n",
        "      self.show_details()\n",
        "      print(\"You have withdrawn the amount and new balance is:\",self.balance)\n",
        "\n",
        "Amit=Bank('Amit',25,'Male')\n",
        "Amit.deposits(300)\n",
        "Amit.withdraw(100)\n",
        "Amit.view_balance()\n",
        "    \n"
      ]
    }
  ]
}